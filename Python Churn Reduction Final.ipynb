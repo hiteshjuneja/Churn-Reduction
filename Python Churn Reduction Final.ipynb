{
 "cells": [
  {
   "cell_type": "code",
   "execution_count": 94,
   "metadata": {},
   "outputs": [],
   "source": [
    "## Note : - In below problem target variable is \"Churn\" and if the value of Churn = 0 that means that customer will not move\n",
    "## and if the value of Churn = 1 thats means that Customer will move out.\n",
    "\n",
    "## Importin Libraries\n",
    "import os \n",
    "import pandas as pd\n",
    "import numpy as np\n",
    "import tensorflow\n",
    "from fancyimpute import KNN\n",
    "import matplotlib.pyplot as plt\n",
    "%matplotlib inline\n",
    "import seaborn as sns\n",
    "from scipy.stats import chi2_contingency\n",
    "import seaborn as sns\n",
    "from random import randrange, uniform"
   ]
  },
  {
   "cell_type": "code",
   "execution_count": 95,
   "metadata": {},
   "outputs": [],
   "source": [
    "## Setting the working directory\n",
    "os.chdir(\"D:/Data Science/Projects/Project 1 Python\")"
   ]
  },
  {
   "cell_type": "code",
   "execution_count": 96,
   "metadata": {},
   "outputs": [
    {
     "data": {
      "text/plain": [
       "'D:\\\\Data Science\\\\Projects\\\\Project 1 Python'"
      ]
     },
     "execution_count": 96,
     "metadata": {},
     "output_type": "execute_result"
    }
   ],
   "source": [
    "os.getcwd()"
   ]
  },
  {
   "cell_type": "code",
   "execution_count": 97,
   "metadata": {},
   "outputs": [],
   "source": [
    "## Reading test and train data\n",
    "train_data = pd.read_csv(\"Train_data.csv\")\n",
    "test_data=pd.read_csv(\"Test_data.csv\")"
   ]
  },
  {
   "cell_type": "code",
   "execution_count": 98,
   "metadata": {},
   "outputs": [
    {
     "data": {
      "text/plain": [
       "(3333, 21)"
      ]
     },
     "execution_count": 98,
     "metadata": {},
     "output_type": "execute_result"
    }
   ],
   "source": [
    "train_data.shape"
   ]
  },
  {
   "cell_type": "code",
   "execution_count": 99,
   "metadata": {},
   "outputs": [
    {
     "data": {
      "text/plain": [
       "(1667, 21)"
      ]
     },
     "execution_count": 99,
     "metadata": {},
     "output_type": "execute_result"
    }
   ],
   "source": [
    "test_data.shape"
   ]
  },
  {
   "cell_type": "code",
   "execution_count": 100,
   "metadata": {},
   "outputs": [],
   "source": [
    "## Combining test and train data for Exploratory Data Analysis\n",
    "full_data = pd.concat([train_data,test_data],ignore_index=True)"
   ]
  },
  {
   "cell_type": "code",
   "execution_count": 101,
   "metadata": {},
   "outputs": [
    {
     "data": {
      "text/plain": [
       "(5000, 21)"
      ]
     },
     "execution_count": 101,
     "metadata": {},
     "output_type": "execute_result"
    }
   ],
   "source": [
    "full_data.shape"
   ]
  },
  {
   "cell_type": "code",
   "execution_count": 102,
   "metadata": {},
   "outputs": [
    {
     "data": {
      "text/html": [
       "<div>\n",
       "<style scoped>\n",
       "    .dataframe tbody tr th:only-of-type {\n",
       "        vertical-align: middle;\n",
       "    }\n",
       "\n",
       "    .dataframe tbody tr th {\n",
       "        vertical-align: top;\n",
       "    }\n",
       "\n",
       "    .dataframe thead th {\n",
       "        text-align: right;\n",
       "    }\n",
       "</style>\n",
       "<table border=\"1\" class=\"dataframe\">\n",
       "  <thead>\n",
       "    <tr style=\"text-align: right;\">\n",
       "      <th></th>\n",
       "      <th>state</th>\n",
       "      <th>account length</th>\n",
       "      <th>area code</th>\n",
       "      <th>phone number</th>\n",
       "      <th>international plan</th>\n",
       "      <th>voice mail plan</th>\n",
       "      <th>number vmail messages</th>\n",
       "      <th>total day minutes</th>\n",
       "      <th>total day calls</th>\n",
       "      <th>total day charge</th>\n",
       "      <th>...</th>\n",
       "      <th>total eve calls</th>\n",
       "      <th>total eve charge</th>\n",
       "      <th>total night minutes</th>\n",
       "      <th>total night calls</th>\n",
       "      <th>total night charge</th>\n",
       "      <th>total intl minutes</th>\n",
       "      <th>total intl calls</th>\n",
       "      <th>total intl charge</th>\n",
       "      <th>number customer service calls</th>\n",
       "      <th>Churn</th>\n",
       "    </tr>\n",
       "  </thead>\n",
       "  <tbody>\n",
       "    <tr>\n",
       "      <th>0</th>\n",
       "      <td>KS</td>\n",
       "      <td>128</td>\n",
       "      <td>415</td>\n",
       "      <td>382-4657</td>\n",
       "      <td>no</td>\n",
       "      <td>yes</td>\n",
       "      <td>25</td>\n",
       "      <td>265.1</td>\n",
       "      <td>110</td>\n",
       "      <td>45.07</td>\n",
       "      <td>...</td>\n",
       "      <td>99</td>\n",
       "      <td>16.78</td>\n",
       "      <td>244.7</td>\n",
       "      <td>91</td>\n",
       "      <td>11.01</td>\n",
       "      <td>10.0</td>\n",
       "      <td>3</td>\n",
       "      <td>2.70</td>\n",
       "      <td>1</td>\n",
       "      <td>False.</td>\n",
       "    </tr>\n",
       "    <tr>\n",
       "      <th>1</th>\n",
       "      <td>OH</td>\n",
       "      <td>107</td>\n",
       "      <td>415</td>\n",
       "      <td>371-7191</td>\n",
       "      <td>no</td>\n",
       "      <td>yes</td>\n",
       "      <td>26</td>\n",
       "      <td>161.6</td>\n",
       "      <td>123</td>\n",
       "      <td>27.47</td>\n",
       "      <td>...</td>\n",
       "      <td>103</td>\n",
       "      <td>16.62</td>\n",
       "      <td>254.4</td>\n",
       "      <td>103</td>\n",
       "      <td>11.45</td>\n",
       "      <td>13.7</td>\n",
       "      <td>3</td>\n",
       "      <td>3.70</td>\n",
       "      <td>1</td>\n",
       "      <td>False.</td>\n",
       "    </tr>\n",
       "    <tr>\n",
       "      <th>2</th>\n",
       "      <td>NJ</td>\n",
       "      <td>137</td>\n",
       "      <td>415</td>\n",
       "      <td>358-1921</td>\n",
       "      <td>no</td>\n",
       "      <td>no</td>\n",
       "      <td>0</td>\n",
       "      <td>243.4</td>\n",
       "      <td>114</td>\n",
       "      <td>41.38</td>\n",
       "      <td>...</td>\n",
       "      <td>110</td>\n",
       "      <td>10.30</td>\n",
       "      <td>162.6</td>\n",
       "      <td>104</td>\n",
       "      <td>7.32</td>\n",
       "      <td>12.2</td>\n",
       "      <td>5</td>\n",
       "      <td>3.29</td>\n",
       "      <td>0</td>\n",
       "      <td>False.</td>\n",
       "    </tr>\n",
       "    <tr>\n",
       "      <th>3</th>\n",
       "      <td>OH</td>\n",
       "      <td>84</td>\n",
       "      <td>408</td>\n",
       "      <td>375-9999</td>\n",
       "      <td>yes</td>\n",
       "      <td>no</td>\n",
       "      <td>0</td>\n",
       "      <td>299.4</td>\n",
       "      <td>71</td>\n",
       "      <td>50.90</td>\n",
       "      <td>...</td>\n",
       "      <td>88</td>\n",
       "      <td>5.26</td>\n",
       "      <td>196.9</td>\n",
       "      <td>89</td>\n",
       "      <td>8.86</td>\n",
       "      <td>6.6</td>\n",
       "      <td>7</td>\n",
       "      <td>1.78</td>\n",
       "      <td>2</td>\n",
       "      <td>False.</td>\n",
       "    </tr>\n",
       "    <tr>\n",
       "      <th>4</th>\n",
       "      <td>OK</td>\n",
       "      <td>75</td>\n",
       "      <td>415</td>\n",
       "      <td>330-6626</td>\n",
       "      <td>yes</td>\n",
       "      <td>no</td>\n",
       "      <td>0</td>\n",
       "      <td>166.7</td>\n",
       "      <td>113</td>\n",
       "      <td>28.34</td>\n",
       "      <td>...</td>\n",
       "      <td>122</td>\n",
       "      <td>12.61</td>\n",
       "      <td>186.9</td>\n",
       "      <td>121</td>\n",
       "      <td>8.41</td>\n",
       "      <td>10.1</td>\n",
       "      <td>3</td>\n",
       "      <td>2.73</td>\n",
       "      <td>3</td>\n",
       "      <td>False.</td>\n",
       "    </tr>\n",
       "  </tbody>\n",
       "</table>\n",
       "<p>5 rows × 21 columns</p>\n",
       "</div>"
      ],
      "text/plain": [
       "  state  account length  area code phone number international plan  \\\n",
       "0    KS             128        415     382-4657                 no   \n",
       "1    OH             107        415     371-7191                 no   \n",
       "2    NJ             137        415     358-1921                 no   \n",
       "3    OH              84        408     375-9999                yes   \n",
       "4    OK              75        415     330-6626                yes   \n",
       "\n",
       "  voice mail plan  number vmail messages  total day minutes  total day calls  \\\n",
       "0             yes                     25              265.1              110   \n",
       "1             yes                     26              161.6              123   \n",
       "2              no                      0              243.4              114   \n",
       "3              no                      0              299.4               71   \n",
       "4              no                      0              166.7              113   \n",
       "\n",
       "   total day charge   ...     total eve calls  total eve charge  \\\n",
       "0             45.07   ...                  99             16.78   \n",
       "1             27.47   ...                 103             16.62   \n",
       "2             41.38   ...                 110             10.30   \n",
       "3             50.90   ...                  88              5.26   \n",
       "4             28.34   ...                 122             12.61   \n",
       "\n",
       "   total night minutes  total night calls  total night charge  \\\n",
       "0                244.7                 91               11.01   \n",
       "1                254.4                103               11.45   \n",
       "2                162.6                104                7.32   \n",
       "3                196.9                 89                8.86   \n",
       "4                186.9                121                8.41   \n",
       "\n",
       "   total intl minutes  total intl calls  total intl charge  \\\n",
       "0                10.0                 3               2.70   \n",
       "1                13.7                 3               3.70   \n",
       "2                12.2                 5               3.29   \n",
       "3                 6.6                 7               1.78   \n",
       "4                10.1                 3               2.73   \n",
       "\n",
       "   number customer service calls    Churn  \n",
       "0                              1   False.  \n",
       "1                              1   False.  \n",
       "2                              0   False.  \n",
       "3                              2   False.  \n",
       "4                              3   False.  \n",
       "\n",
       "[5 rows x 21 columns]"
      ]
     },
     "execution_count": 102,
     "metadata": {},
     "output_type": "execute_result"
    }
   ],
   "source": [
    "full_data.head(5)"
   ]
  },
  {
   "cell_type": "code",
   "execution_count": 103,
   "metadata": {},
   "outputs": [
    {
     "name": "stdout",
     "output_type": "stream",
     "text": [
      "<class 'pandas.core.frame.DataFrame'>\n",
      "RangeIndex: 5000 entries, 0 to 4999\n",
      "Data columns (total 21 columns):\n",
      "state                            5000 non-null object\n",
      "account length                   5000 non-null int64\n",
      "area code                        5000 non-null int64\n",
      "phone number                     5000 non-null object\n",
      "international plan               5000 non-null object\n",
      "voice mail plan                  5000 non-null object\n",
      "number vmail messages            5000 non-null int64\n",
      "total day minutes                5000 non-null float64\n",
      "total day calls                  5000 non-null int64\n",
      "total day charge                 5000 non-null float64\n",
      "total eve minutes                5000 non-null float64\n",
      "total eve calls                  5000 non-null int64\n",
      "total eve charge                 5000 non-null float64\n",
      "total night minutes              5000 non-null float64\n",
      "total night calls                5000 non-null int64\n",
      "total night charge               5000 non-null float64\n",
      "total intl minutes               5000 non-null float64\n",
      "total intl calls                 5000 non-null int64\n",
      "total intl charge                5000 non-null float64\n",
      "number customer service calls    5000 non-null int64\n",
      "Churn                            5000 non-null object\n",
      "dtypes: float64(8), int64(8), object(5)\n",
      "memory usage: 820.4+ KB\n"
     ]
    }
   ],
   "source": [
    "full_data.info()"
   ]
  },
  {
   "cell_type": "code",
   "execution_count": 104,
   "metadata": {},
   "outputs": [],
   "source": [
    "## Removing the unwanted features\n",
    "\n",
    "full_data = full_data.drop(['area code','state','phone number'],axis=1)"
   ]
  },
  {
   "cell_type": "code",
   "execution_count": 105,
   "metadata": {},
   "outputs": [
    {
     "data": {
      "text/plain": [
       "Index(['account length', 'international plan', 'voice mail plan',\n",
       "       'number vmail messages', 'total day minutes', 'total day calls',\n",
       "       'total day charge', 'total eve minutes', 'total eve calls',\n",
       "       'total eve charge', 'total night minutes', 'total night calls',\n",
       "       'total night charge', 'total intl minutes', 'total intl calls',\n",
       "       'total intl charge', 'number customer service calls', 'Churn'],\n",
       "      dtype='object')"
      ]
     },
     "execution_count": 105,
     "metadata": {},
     "output_type": "execute_result"
    }
   ],
   "source": [
    "full_data.columns"
   ]
  },
  {
   "cell_type": "code",
   "execution_count": 106,
   "metadata": {},
   "outputs": [],
   "source": [
    "## Providing labels to categorical variable\n",
    "\n",
    "lis=[]\n",
    "for i in range (0, full_data.shape[1]):\n",
    "        if(full_data.iloc[:,i].dtypes == 'object'):\n",
    "            full_data.iloc[:,i]=pd.Categorical(full_data.iloc[:,i])\n",
    "            full_data.iloc[:,i]=full_data.iloc[:,i].cat.codes\n",
    "            full_data.iloc[:,i]=full_data.iloc[:,i].astype('object')\n",
    "            lis.append(full_data.columns[i])"
   ]
  },
  {
   "cell_type": "code",
   "execution_count": 107,
   "metadata": {},
   "outputs": [
    {
     "data": {
      "text/html": [
       "<div>\n",
       "<style scoped>\n",
       "    .dataframe tbody tr th:only-of-type {\n",
       "        vertical-align: middle;\n",
       "    }\n",
       "\n",
       "    .dataframe tbody tr th {\n",
       "        vertical-align: top;\n",
       "    }\n",
       "\n",
       "    .dataframe thead th {\n",
       "        text-align: right;\n",
       "    }\n",
       "</style>\n",
       "<table border=\"1\" class=\"dataframe\">\n",
       "  <thead>\n",
       "    <tr style=\"text-align: right;\">\n",
       "      <th></th>\n",
       "      <th>account length</th>\n",
       "      <th>international plan</th>\n",
       "      <th>voice mail plan</th>\n",
       "      <th>number vmail messages</th>\n",
       "      <th>total day minutes</th>\n",
       "      <th>total day calls</th>\n",
       "      <th>total day charge</th>\n",
       "      <th>total eve minutes</th>\n",
       "      <th>total eve calls</th>\n",
       "      <th>total eve charge</th>\n",
       "      <th>total night minutes</th>\n",
       "      <th>total night calls</th>\n",
       "      <th>total night charge</th>\n",
       "      <th>total intl minutes</th>\n",
       "      <th>total intl calls</th>\n",
       "      <th>total intl charge</th>\n",
       "      <th>number customer service calls</th>\n",
       "      <th>Churn</th>\n",
       "    </tr>\n",
       "  </thead>\n",
       "  <tbody>\n",
       "    <tr>\n",
       "      <th>0</th>\n",
       "      <td>128</td>\n",
       "      <td>0</td>\n",
       "      <td>1</td>\n",
       "      <td>25</td>\n",
       "      <td>265.1</td>\n",
       "      <td>110</td>\n",
       "      <td>45.07</td>\n",
       "      <td>197.4</td>\n",
       "      <td>99</td>\n",
       "      <td>16.78</td>\n",
       "      <td>244.7</td>\n",
       "      <td>91</td>\n",
       "      <td>11.01</td>\n",
       "      <td>10.0</td>\n",
       "      <td>3</td>\n",
       "      <td>2.70</td>\n",
       "      <td>1</td>\n",
       "      <td>0</td>\n",
       "    </tr>\n",
       "    <tr>\n",
       "      <th>1</th>\n",
       "      <td>107</td>\n",
       "      <td>0</td>\n",
       "      <td>1</td>\n",
       "      <td>26</td>\n",
       "      <td>161.6</td>\n",
       "      <td>123</td>\n",
       "      <td>27.47</td>\n",
       "      <td>195.5</td>\n",
       "      <td>103</td>\n",
       "      <td>16.62</td>\n",
       "      <td>254.4</td>\n",
       "      <td>103</td>\n",
       "      <td>11.45</td>\n",
       "      <td>13.7</td>\n",
       "      <td>3</td>\n",
       "      <td>3.70</td>\n",
       "      <td>1</td>\n",
       "      <td>0</td>\n",
       "    </tr>\n",
       "    <tr>\n",
       "      <th>2</th>\n",
       "      <td>137</td>\n",
       "      <td>0</td>\n",
       "      <td>0</td>\n",
       "      <td>0</td>\n",
       "      <td>243.4</td>\n",
       "      <td>114</td>\n",
       "      <td>41.38</td>\n",
       "      <td>121.2</td>\n",
       "      <td>110</td>\n",
       "      <td>10.30</td>\n",
       "      <td>162.6</td>\n",
       "      <td>104</td>\n",
       "      <td>7.32</td>\n",
       "      <td>12.2</td>\n",
       "      <td>5</td>\n",
       "      <td>3.29</td>\n",
       "      <td>0</td>\n",
       "      <td>0</td>\n",
       "    </tr>\n",
       "    <tr>\n",
       "      <th>3</th>\n",
       "      <td>84</td>\n",
       "      <td>1</td>\n",
       "      <td>0</td>\n",
       "      <td>0</td>\n",
       "      <td>299.4</td>\n",
       "      <td>71</td>\n",
       "      <td>50.90</td>\n",
       "      <td>61.9</td>\n",
       "      <td>88</td>\n",
       "      <td>5.26</td>\n",
       "      <td>196.9</td>\n",
       "      <td>89</td>\n",
       "      <td>8.86</td>\n",
       "      <td>6.6</td>\n",
       "      <td>7</td>\n",
       "      <td>1.78</td>\n",
       "      <td>2</td>\n",
       "      <td>0</td>\n",
       "    </tr>\n",
       "    <tr>\n",
       "      <th>4</th>\n",
       "      <td>75</td>\n",
       "      <td>1</td>\n",
       "      <td>0</td>\n",
       "      <td>0</td>\n",
       "      <td>166.7</td>\n",
       "      <td>113</td>\n",
       "      <td>28.34</td>\n",
       "      <td>148.3</td>\n",
       "      <td>122</td>\n",
       "      <td>12.61</td>\n",
       "      <td>186.9</td>\n",
       "      <td>121</td>\n",
       "      <td>8.41</td>\n",
       "      <td>10.1</td>\n",
       "      <td>3</td>\n",
       "      <td>2.73</td>\n",
       "      <td>3</td>\n",
       "      <td>0</td>\n",
       "    </tr>\n",
       "  </tbody>\n",
       "</table>\n",
       "</div>"
      ],
      "text/plain": [
       "   account length international plan voice mail plan  number vmail messages  \\\n",
       "0             128                  0               1                     25   \n",
       "1             107                  0               1                     26   \n",
       "2             137                  0               0                      0   \n",
       "3              84                  1               0                      0   \n",
       "4              75                  1               0                      0   \n",
       "\n",
       "   total day minutes  total day calls  total day charge  total eve minutes  \\\n",
       "0              265.1              110             45.07              197.4   \n",
       "1              161.6              123             27.47              195.5   \n",
       "2              243.4              114             41.38              121.2   \n",
       "3              299.4               71             50.90               61.9   \n",
       "4              166.7              113             28.34              148.3   \n",
       "\n",
       "   total eve calls  total eve charge  total night minutes  total night calls  \\\n",
       "0               99             16.78                244.7                 91   \n",
       "1              103             16.62                254.4                103   \n",
       "2              110             10.30                162.6                104   \n",
       "3               88              5.26                196.9                 89   \n",
       "4              122             12.61                186.9                121   \n",
       "\n",
       "   total night charge  total intl minutes  total intl calls  \\\n",
       "0               11.01                10.0                 3   \n",
       "1               11.45                13.7                 3   \n",
       "2                7.32                12.2                 5   \n",
       "3                8.86                 6.6                 7   \n",
       "4                8.41                10.1                 3   \n",
       "\n",
       "   total intl charge  number customer service calls Churn  \n",
       "0               2.70                              1     0  \n",
       "1               3.70                              1     0  \n",
       "2               3.29                              0     0  \n",
       "3               1.78                              2     0  \n",
       "4               2.73                              3     0  "
      ]
     },
     "execution_count": 107,
     "metadata": {},
     "output_type": "execute_result"
    }
   ],
   "source": [
    "full_data.head()"
   ]
  },
  {
   "cell_type": "code",
   "execution_count": 108,
   "metadata": {},
   "outputs": [
    {
     "data": {
      "text/html": [
       "<div>\n",
       "<style scoped>\n",
       "    .dataframe tbody tr th:only-of-type {\n",
       "        vertical-align: middle;\n",
       "    }\n",
       "\n",
       "    .dataframe tbody tr th {\n",
       "        vertical-align: top;\n",
       "    }\n",
       "\n",
       "    .dataframe thead th {\n",
       "        text-align: right;\n",
       "    }\n",
       "</style>\n",
       "<table border=\"1\" class=\"dataframe\">\n",
       "  <thead>\n",
       "    <tr style=\"text-align: right;\">\n",
       "      <th></th>\n",
       "      <th>0</th>\n",
       "    </tr>\n",
       "  </thead>\n",
       "  <tbody>\n",
       "    <tr>\n",
       "      <th>account length</th>\n",
       "      <td>0</td>\n",
       "    </tr>\n",
       "    <tr>\n",
       "      <th>international plan</th>\n",
       "      <td>0</td>\n",
       "    </tr>\n",
       "    <tr>\n",
       "      <th>voice mail plan</th>\n",
       "      <td>0</td>\n",
       "    </tr>\n",
       "    <tr>\n",
       "      <th>number vmail messages</th>\n",
       "      <td>0</td>\n",
       "    </tr>\n",
       "    <tr>\n",
       "      <th>total day minutes</th>\n",
       "      <td>0</td>\n",
       "    </tr>\n",
       "    <tr>\n",
       "      <th>total day calls</th>\n",
       "      <td>0</td>\n",
       "    </tr>\n",
       "    <tr>\n",
       "      <th>total eve minutes</th>\n",
       "      <td>0</td>\n",
       "    </tr>\n",
       "    <tr>\n",
       "      <th>total eve calls</th>\n",
       "      <td>0</td>\n",
       "    </tr>\n",
       "    <tr>\n",
       "      <th>total night minutes</th>\n",
       "      <td>0</td>\n",
       "    </tr>\n",
       "    <tr>\n",
       "      <th>total night calls</th>\n",
       "      <td>0</td>\n",
       "    </tr>\n",
       "    <tr>\n",
       "      <th>total intl minutes</th>\n",
       "      <td>0</td>\n",
       "    </tr>\n",
       "    <tr>\n",
       "      <th>total intl calls</th>\n",
       "      <td>0</td>\n",
       "    </tr>\n",
       "    <tr>\n",
       "      <th>number customer service calls</th>\n",
       "      <td>0</td>\n",
       "    </tr>\n",
       "    <tr>\n",
       "      <th>total minutes</th>\n",
       "      <td>0</td>\n",
       "    </tr>\n",
       "    <tr>\n",
       "      <th>total calls</th>\n",
       "      <td>0</td>\n",
       "    </tr>\n",
       "    <tr>\n",
       "      <th>avg time spent</th>\n",
       "      <td>0</td>\n",
       "    </tr>\n",
       "    <tr>\n",
       "      <th>Churn</th>\n",
       "      <td>0</td>\n",
       "    </tr>\n",
       "  </tbody>\n",
       "</table>\n",
       "</div>"
      ],
      "text/plain": [
       "                               0\n",
       "account length                 0\n",
       "international plan             0\n",
       "voice mail plan                0\n",
       "number vmail messages          0\n",
       "total day minutes              0\n",
       "total day calls                0\n",
       "total eve minutes              0\n",
       "total eve calls                0\n",
       "total night minutes            0\n",
       "total night calls              0\n",
       "total intl minutes             0\n",
       "total intl calls               0\n",
       "number customer service calls  0\n",
       "total minutes                  0\n",
       "total calls                    0\n",
       "avg time spent                 0\n",
       "Churn                          0"
      ]
     },
     "execution_count": 108,
     "metadata": {},
     "output_type": "execute_result"
    }
   ],
   "source": [
    "## Missing Value Analysis\n",
    "missing_val = pd.DataFrame(fd_copy.isnull().sum())\n",
    "missing_val"
   ]
  },
  {
   "cell_type": "code",
   "execution_count": 109,
   "metadata": {},
   "outputs": [],
   "source": [
    "## Feature Engineering\n",
    "full_data['total minutes'] = full_data['total day minutes']+full_data['total eve minutes']+full_data['total night minutes']+full_data['total intl minutes']\n",
    "full_data['total calls'] =  full_data['total day calls']+full_data['total eve calls']+full_data['total night calls']+full_data['total intl calls']\n",
    "full_data['avg time spent'] = full_data['total minutes']/full_data['total calls']"
   ]
  },
  {
   "cell_type": "code",
   "execution_count": 110,
   "metadata": {},
   "outputs": [
    {
     "data": {
      "text/html": [
       "<div>\n",
       "<style scoped>\n",
       "    .dataframe tbody tr th:only-of-type {\n",
       "        vertical-align: middle;\n",
       "    }\n",
       "\n",
       "    .dataframe tbody tr th {\n",
       "        vertical-align: top;\n",
       "    }\n",
       "\n",
       "    .dataframe thead th {\n",
       "        text-align: right;\n",
       "    }\n",
       "</style>\n",
       "<table border=\"1\" class=\"dataframe\">\n",
       "  <thead>\n",
       "    <tr style=\"text-align: right;\">\n",
       "      <th></th>\n",
       "      <th>account length</th>\n",
       "      <th>international plan</th>\n",
       "      <th>voice mail plan</th>\n",
       "      <th>number vmail messages</th>\n",
       "      <th>total day minutes</th>\n",
       "      <th>total day calls</th>\n",
       "      <th>total day charge</th>\n",
       "      <th>total eve minutes</th>\n",
       "      <th>total eve calls</th>\n",
       "      <th>total eve charge</th>\n",
       "      <th>...</th>\n",
       "      <th>total night calls</th>\n",
       "      <th>total night charge</th>\n",
       "      <th>total intl minutes</th>\n",
       "      <th>total intl calls</th>\n",
       "      <th>total intl charge</th>\n",
       "      <th>number customer service calls</th>\n",
       "      <th>Churn</th>\n",
       "      <th>total minutes</th>\n",
       "      <th>total calls</th>\n",
       "      <th>avg time spent</th>\n",
       "    </tr>\n",
       "  </thead>\n",
       "  <tbody>\n",
       "    <tr>\n",
       "      <th>0</th>\n",
       "      <td>128</td>\n",
       "      <td>0</td>\n",
       "      <td>1</td>\n",
       "      <td>25</td>\n",
       "      <td>265.1</td>\n",
       "      <td>110</td>\n",
       "      <td>45.07</td>\n",
       "      <td>197.4</td>\n",
       "      <td>99</td>\n",
       "      <td>16.78</td>\n",
       "      <td>...</td>\n",
       "      <td>91</td>\n",
       "      <td>11.01</td>\n",
       "      <td>10.0</td>\n",
       "      <td>3</td>\n",
       "      <td>2.70</td>\n",
       "      <td>1</td>\n",
       "      <td>0</td>\n",
       "      <td>717.2</td>\n",
       "      <td>303</td>\n",
       "      <td>2.366997</td>\n",
       "    </tr>\n",
       "    <tr>\n",
       "      <th>1</th>\n",
       "      <td>107</td>\n",
       "      <td>0</td>\n",
       "      <td>1</td>\n",
       "      <td>26</td>\n",
       "      <td>161.6</td>\n",
       "      <td>123</td>\n",
       "      <td>27.47</td>\n",
       "      <td>195.5</td>\n",
       "      <td>103</td>\n",
       "      <td>16.62</td>\n",
       "      <td>...</td>\n",
       "      <td>103</td>\n",
       "      <td>11.45</td>\n",
       "      <td>13.7</td>\n",
       "      <td>3</td>\n",
       "      <td>3.70</td>\n",
       "      <td>1</td>\n",
       "      <td>0</td>\n",
       "      <td>625.2</td>\n",
       "      <td>332</td>\n",
       "      <td>1.883133</td>\n",
       "    </tr>\n",
       "    <tr>\n",
       "      <th>2</th>\n",
       "      <td>137</td>\n",
       "      <td>0</td>\n",
       "      <td>0</td>\n",
       "      <td>0</td>\n",
       "      <td>243.4</td>\n",
       "      <td>114</td>\n",
       "      <td>41.38</td>\n",
       "      <td>121.2</td>\n",
       "      <td>110</td>\n",
       "      <td>10.30</td>\n",
       "      <td>...</td>\n",
       "      <td>104</td>\n",
       "      <td>7.32</td>\n",
       "      <td>12.2</td>\n",
       "      <td>5</td>\n",
       "      <td>3.29</td>\n",
       "      <td>0</td>\n",
       "      <td>0</td>\n",
       "      <td>539.4</td>\n",
       "      <td>333</td>\n",
       "      <td>1.619820</td>\n",
       "    </tr>\n",
       "    <tr>\n",
       "      <th>3</th>\n",
       "      <td>84</td>\n",
       "      <td>1</td>\n",
       "      <td>0</td>\n",
       "      <td>0</td>\n",
       "      <td>299.4</td>\n",
       "      <td>71</td>\n",
       "      <td>50.90</td>\n",
       "      <td>61.9</td>\n",
       "      <td>88</td>\n",
       "      <td>5.26</td>\n",
       "      <td>...</td>\n",
       "      <td>89</td>\n",
       "      <td>8.86</td>\n",
       "      <td>6.6</td>\n",
       "      <td>7</td>\n",
       "      <td>1.78</td>\n",
       "      <td>2</td>\n",
       "      <td>0</td>\n",
       "      <td>564.8</td>\n",
       "      <td>255</td>\n",
       "      <td>2.214902</td>\n",
       "    </tr>\n",
       "    <tr>\n",
       "      <th>4</th>\n",
       "      <td>75</td>\n",
       "      <td>1</td>\n",
       "      <td>0</td>\n",
       "      <td>0</td>\n",
       "      <td>166.7</td>\n",
       "      <td>113</td>\n",
       "      <td>28.34</td>\n",
       "      <td>148.3</td>\n",
       "      <td>122</td>\n",
       "      <td>12.61</td>\n",
       "      <td>...</td>\n",
       "      <td>121</td>\n",
       "      <td>8.41</td>\n",
       "      <td>10.1</td>\n",
       "      <td>3</td>\n",
       "      <td>2.73</td>\n",
       "      <td>3</td>\n",
       "      <td>0</td>\n",
       "      <td>512.0</td>\n",
       "      <td>359</td>\n",
       "      <td>1.426184</td>\n",
       "    </tr>\n",
       "  </tbody>\n",
       "</table>\n",
       "<p>5 rows × 21 columns</p>\n",
       "</div>"
      ],
      "text/plain": [
       "   account length international plan voice mail plan  number vmail messages  \\\n",
       "0             128                  0               1                     25   \n",
       "1             107                  0               1                     26   \n",
       "2             137                  0               0                      0   \n",
       "3              84                  1               0                      0   \n",
       "4              75                  1               0                      0   \n",
       "\n",
       "   total day minutes  total day calls  total day charge  total eve minutes  \\\n",
       "0              265.1              110             45.07              197.4   \n",
       "1              161.6              123             27.47              195.5   \n",
       "2              243.4              114             41.38              121.2   \n",
       "3              299.4               71             50.90               61.9   \n",
       "4              166.7              113             28.34              148.3   \n",
       "\n",
       "   total eve calls  total eve charge       ...        total night calls  \\\n",
       "0               99             16.78       ...                       91   \n",
       "1              103             16.62       ...                      103   \n",
       "2              110             10.30       ...                      104   \n",
       "3               88              5.26       ...                       89   \n",
       "4              122             12.61       ...                      121   \n",
       "\n",
       "   total night charge  total intl minutes  total intl calls  \\\n",
       "0               11.01                10.0                 3   \n",
       "1               11.45                13.7                 3   \n",
       "2                7.32                12.2                 5   \n",
       "3                8.86                 6.6                 7   \n",
       "4                8.41                10.1                 3   \n",
       "\n",
       "   total intl charge  number customer service calls  Churn total minutes  \\\n",
       "0               2.70                              1      0         717.2   \n",
       "1               3.70                              1      0         625.2   \n",
       "2               3.29                              0      0         539.4   \n",
       "3               1.78                              2      0         564.8   \n",
       "4               2.73                              3      0         512.0   \n",
       "\n",
       "   total calls  avg time spent  \n",
       "0          303        2.366997  \n",
       "1          332        1.883133  \n",
       "2          333        1.619820  \n",
       "3          255        2.214902  \n",
       "4          359        1.426184  \n",
       "\n",
       "[5 rows x 21 columns]"
      ]
     },
     "execution_count": 110,
     "metadata": {},
     "output_type": "execute_result"
    }
   ],
   "source": [
    "full_data.head()"
   ]
  },
  {
   "cell_type": "code",
   "execution_count": 111,
   "metadata": {},
   "outputs": [],
   "source": [
    "full_data = full_data[['account length', 'international plan', 'voice mail plan',\n",
    "       'number vmail messages', 'total day minutes', 'total day calls',\n",
    "       'total day charge', 'total eve minutes', 'total eve calls',\n",
    "       'total eve charge', 'total night minutes', 'total night calls',\n",
    "       'total night charge', 'total intl minutes', 'total intl calls',\n",
    "       'total intl charge', 'number customer service calls',\n",
    "       'total minutes', 'total calls', 'avg time spent', 'Churn']]"
   ]
  },
  {
   "cell_type": "code",
   "execution_count": 112,
   "metadata": {},
   "outputs": [],
   "source": [
    "## Create the list of numeric Variable\n",
    "list_numeric_data = []\n",
    "for i in range(0, full_data.shape[1]):\n",
    "    if full_data.iloc[:,i].dtypes in ('float64','int64'):\n",
    "        list_numeric_data.append(full_data.columns[i])"
   ]
  },
  {
   "cell_type": "code",
   "execution_count": 113,
   "metadata": {},
   "outputs": [
    {
     "data": {
      "text/plain": [
       "['account length',\n",
       " 'number vmail messages',\n",
       " 'total day minutes',\n",
       " 'total day calls',\n",
       " 'total day charge',\n",
       " 'total eve minutes',\n",
       " 'total eve calls',\n",
       " 'total eve charge',\n",
       " 'total night minutes',\n",
       " 'total night calls',\n",
       " 'total night charge',\n",
       " 'total intl minutes',\n",
       " 'total intl calls',\n",
       " 'total intl charge',\n",
       " 'number customer service calls',\n",
       " 'total minutes',\n",
       " 'total calls',\n",
       " 'avg time spent']"
      ]
     },
     "execution_count": 113,
     "metadata": {},
     "output_type": "execute_result"
    }
   ],
   "source": [
    "list_numeric_data"
   ]
  },
  {
   "cell_type": "code",
   "execution_count": 114,
   "metadata": {},
   "outputs": [
    {
     "data": {
      "text/plain": [
       "['international plan', 'voice mail plan', 'Churn']"
      ]
     },
     "execution_count": 114,
     "metadata": {},
     "output_type": "execute_result"
    }
   ],
   "source": [
    "lis"
   ]
  },
  {
   "cell_type": "code",
   "execution_count": 115,
   "metadata": {},
   "outputs": [
    {
     "data": {
      "text/plain": [
       "array([[<matplotlib.axes._subplots.AxesSubplot object at 0x0000016AA3D15048>,\n",
       "        <matplotlib.axes._subplots.AxesSubplot object at 0x0000016AA3BB3710>,\n",
       "        <matplotlib.axes._subplots.AxesSubplot object at 0x0000016AAB719B00>,\n",
       "        <matplotlib.axes._subplots.AxesSubplot object at 0x0000016AAB5F3EF0>],\n",
       "       [<matplotlib.axes._subplots.AxesSubplot object at 0x0000016AAB624320>,\n",
       "        <matplotlib.axes._subplots.AxesSubplot object at 0x0000016AAB624358>,\n",
       "        <matplotlib.axes._subplots.AxesSubplot object at 0x0000016AAB676B00>,\n",
       "        <matplotlib.axes._subplots.AxesSubplot object at 0x0000016AAB69DEF0>],\n",
       "       [<matplotlib.axes._subplots.AxesSubplot object at 0x0000016AAB6CE320>,\n",
       "        <matplotlib.axes._subplots.AxesSubplot object at 0x0000016AAB74B710>,\n",
       "        <matplotlib.axes._subplots.AxesSubplot object at 0x0000016AAB770B00>,\n",
       "        <matplotlib.axes._subplots.AxesSubplot object at 0x0000016AAB799EF0>],\n",
       "       [<matplotlib.axes._subplots.AxesSubplot object at 0x0000016AAB7CA320>,\n",
       "        <matplotlib.axes._subplots.AxesSubplot object at 0x0000016AAB7F2710>,\n",
       "        <matplotlib.axes._subplots.AxesSubplot object at 0x0000016AAB81BB00>,\n",
       "        <matplotlib.axes._subplots.AxesSubplot object at 0x0000016AAB846EF0>],\n",
       "       [<matplotlib.axes._subplots.AxesSubplot object at 0x0000016AAB876320>,\n",
       "        <matplotlib.axes._subplots.AxesSubplot object at 0x0000016AAB89E710>,\n",
       "        <matplotlib.axes._subplots.AxesSubplot object at 0x0000016AAB8C6B00>,\n",
       "        <matplotlib.axes._subplots.AxesSubplot object at 0x0000016AAB8F81D0>]],\n",
       "      dtype=object)"
      ]
     },
     "execution_count": 115,
     "metadata": {},
     "output_type": "execute_result"
    },
    {
     "data": {
      "image/png": "[encoded data removed]",
      "text/plain": [
       "<Figure size 7200x7200 with 20 Axes>"
      ]
     },
     "metadata": {},
     "output_type": "display_data"
    }
   ],
   "source": [
    "## Creating Box Plot for Outlier Analysis\n",
    "full_data.boxplot(column=list_numeric_data,by='Churn',figsize = (100,100))"
   ]
  },
  {
   "cell_type": "code",
   "execution_count": 116,
   "metadata": {},
   "outputs": [],
   "source": [
    "fd_copy = full_data"
   ]
  },
  {
   "cell_type": "code",
   "execution_count": 117,
   "metadata": {},
   "outputs": [
    {
     "name": "stdout",
     "output_type": "stream",
     "text": [
      "<class 'pandas.core.frame.DataFrame'>\n",
      "RangeIndex: 5000 entries, 0 to 4999\n",
      "Data columns (total 21 columns):\n",
      "account length                   5000 non-null int64\n",
      "international plan               5000 non-null object\n",
      "voice mail plan                  5000 non-null object\n",
      "number vmail messages            5000 non-null int64\n",
      "total day minutes                5000 non-null float64\n",
      "total day calls                  5000 non-null int64\n",
      "total day charge                 5000 non-null float64\n",
      "total eve minutes                5000 non-null float64\n",
      "total eve calls                  5000 non-null int64\n",
      "total eve charge                 5000 non-null float64\n",
      "total night minutes              5000 non-null float64\n",
      "total night calls                5000 non-null int64\n",
      "total night charge               5000 non-null float64\n",
      "total intl minutes               5000 non-null float64\n",
      "total intl calls                 5000 non-null int64\n",
      "total intl charge                5000 non-null float64\n",
      "number customer service calls    5000 non-null int64\n",
      "total minutes                    5000 non-null float64\n",
      "total calls                      5000 non-null int64\n",
      "avg time spent                   5000 non-null float64\n",
      "Churn                            5000 non-null object\n",
      "dtypes: float64(10), int64(8), object(3)\n",
      "memory usage: 820.4+ KB\n"
     ]
    }
   ],
   "source": [
    "fd_copy.info()"
   ]
  },
  {
   "cell_type": "code",
   "execution_count": 118,
   "metadata": {},
   "outputs": [
    {
     "name": "stdout",
     "output_type": "stream",
     "text": [
      "account length\n",
      "-8.0\n",
      "208.0\n",
      "number vmail messages\n",
      "-25.5\n",
      "42.5\n",
      "total day minutes\n",
      "34.94999999999999\n",
      "324.95\n",
      "total day calls\n",
      "48.0\n",
      "152.0\n",
      "total day charge\n",
      "5.949999999999999\n",
      "55.230000000000004\n",
      "total eve minutes\n",
      "64.78750000000001\n",
      "335.6875\n",
      "total eve calls\n",
      "46.5\n",
      "154.5\n",
      "total eve charge\n",
      "5.5000000000000036\n",
      "28.539999999999996\n",
      "total night minutes\n",
      "65.20000000000003\n",
      "336.4\n",
      "total night calls\n",
      "48.0\n",
      "152.0\n",
      "total night charge\n",
      "2.9349999999999987\n",
      "15.135000000000002\n",
      "total intl minutes\n",
      "3.25\n",
      "17.25\n",
      "total intl calls\n",
      "-1.5\n",
      "10.5\n",
      "total intl charge\n",
      "0.8899999999999992\n",
      "4.65\n",
      "number customer service calls\n",
      "-0.5\n",
      "3.5\n",
      "total minutes\n",
      "349.9625000000003\n",
      "833.2624999999996\n",
      "total calls\n",
      "213.0\n",
      "397.0\n",
      "avg time spent\n",
      "0.9706730311093518\n",
      "2.9326104752166073\n"
     ]
    }
   ],
   "source": [
    "## Outlier Analysis\n",
    "for i in list_numeric_data:\n",
    "    print(i)\n",
    "    #Extract Quartiles\n",
    "    q75,q25=np.percentile(fd_copy.loc[:,i],[ 75,25])\n",
    "    \n",
    "    #Calculate IQR\n",
    "    iqr = q75-q25\n",
    "    \n",
    "    #Calculating Minimum and Maximum values or Inner and Outer fence\n",
    "    min = q25 - (iqr*1.5)\n",
    "    max = q75 + (iqr*1.5)\n",
    "    print(min)\n",
    "    print(max)\n",
    "    \n",
    "    #Replacing Outliers with NA\n",
    "    fd_copy.loc[fd_copy[i] < min,i] = np.nan\n",
    "    fd_copy.loc[fd_copy[i] > max,i] = np.nan"
   ]
  },
  {
   "cell_type": "code",
   "execution_count": 119,
   "metadata": {},
   "outputs": [],
   "source": [
    "## Checking Missing Values in Data Frame after outlier Analysis\n",
    "missing_val = pd.DataFrame(fd_copy.isnull().sum())"
   ]
  },
  {
   "cell_type": "code",
   "execution_count": 120,
   "metadata": {},
   "outputs": [
    {
     "data": {
      "text/html": [
       "<div>\n",
       "<style scoped>\n",
       "    .dataframe tbody tr th:only-of-type {\n",
       "        vertical-align: middle;\n",
       "    }\n",
       "\n",
       "    .dataframe tbody tr th {\n",
       "        vertical-align: top;\n",
       "    }\n",
       "\n",
       "    .dataframe thead th {\n",
       "        text-align: right;\n",
       "    }\n",
       "</style>\n",
       "<table border=\"1\" class=\"dataframe\">\n",
       "  <thead>\n",
       "    <tr style=\"text-align: right;\">\n",
       "      <th></th>\n",
       "      <th>0</th>\n",
       "    </tr>\n",
       "  </thead>\n",
       "  <tbody>\n",
       "    <tr>\n",
       "      <th>account length</th>\n",
       "      <td>24</td>\n",
       "    </tr>\n",
       "    <tr>\n",
       "      <th>international plan</th>\n",
       "      <td>0</td>\n",
       "    </tr>\n",
       "    <tr>\n",
       "      <th>voice mail plan</th>\n",
       "      <td>0</td>\n",
       "    </tr>\n",
       "    <tr>\n",
       "      <th>number vmail messages</th>\n",
       "      <td>60</td>\n",
       "    </tr>\n",
       "    <tr>\n",
       "      <th>total day minutes</th>\n",
       "      <td>34</td>\n",
       "    </tr>\n",
       "    <tr>\n",
       "      <th>total day calls</th>\n",
       "      <td>35</td>\n",
       "    </tr>\n",
       "    <tr>\n",
       "      <th>total day charge</th>\n",
       "      <td>34</td>\n",
       "    </tr>\n",
       "    <tr>\n",
       "      <th>total eve minutes</th>\n",
       "      <td>43</td>\n",
       "    </tr>\n",
       "    <tr>\n",
       "      <th>total eve calls</th>\n",
       "      <td>27</td>\n",
       "    </tr>\n",
       "    <tr>\n",
       "      <th>total eve charge</th>\n",
       "      <td>42</td>\n",
       "    </tr>\n",
       "    <tr>\n",
       "      <th>total night minutes</th>\n",
       "      <td>39</td>\n",
       "    </tr>\n",
       "    <tr>\n",
       "      <th>total night calls</th>\n",
       "      <td>43</td>\n",
       "    </tr>\n",
       "    <tr>\n",
       "      <th>total night charge</th>\n",
       "      <td>39</td>\n",
       "    </tr>\n",
       "    <tr>\n",
       "      <th>total intl minutes</th>\n",
       "      <td>72</td>\n",
       "    </tr>\n",
       "    <tr>\n",
       "      <th>total intl calls</th>\n",
       "      <td>118</td>\n",
       "    </tr>\n",
       "    <tr>\n",
       "      <th>total intl charge</th>\n",
       "      <td>72</td>\n",
       "    </tr>\n",
       "    <tr>\n",
       "      <th>number customer service calls</th>\n",
       "      <td>399</td>\n",
       "    </tr>\n",
       "    <tr>\n",
       "      <th>total minutes</th>\n",
       "      <td>31</td>\n",
       "    </tr>\n",
       "    <tr>\n",
       "      <th>total calls</th>\n",
       "      <td>27</td>\n",
       "    </tr>\n",
       "    <tr>\n",
       "      <th>avg time spent</th>\n",
       "      <td>72</td>\n",
       "    </tr>\n",
       "    <tr>\n",
       "      <th>Churn</th>\n",
       "      <td>0</td>\n",
       "    </tr>\n",
       "  </tbody>\n",
       "</table>\n",
       "</div>"
      ],
      "text/plain": [
       "                                 0\n",
       "account length                  24\n",
       "international plan               0\n",
       "voice mail plan                  0\n",
       "number vmail messages           60\n",
       "total day minutes               34\n",
       "total day calls                 35\n",
       "total day charge                34\n",
       "total eve minutes               43\n",
       "total eve calls                 27\n",
       "total eve charge                42\n",
       "total night minutes             39\n",
       "total night calls               43\n",
       "total night charge              39\n",
       "total intl minutes              72\n",
       "total intl calls               118\n",
       "total intl charge               72\n",
       "number customer service calls  399\n",
       "total minutes                   31\n",
       "total calls                     27\n",
       "avg time spent                  72\n",
       "Churn                            0"
      ]
     },
     "execution_count": 120,
     "metadata": {},
     "output_type": "execute_result"
    }
   ],
   "source": [
    "missing_val"
   ]
  },
  {
   "cell_type": "code",
   "execution_count": 121,
   "metadata": {},
   "outputs": [
    {
     "name": "stdout",
     "output_type": "stream",
     "text": [
      "Imputing row 1/5000 with 0 missing, elapsed time: 6.781\n",
      "Imputing row 101/5000 with 1 missing, elapsed time: 6.784\n",
      "Imputing row 201/5000 with 0 missing, elapsed time: 6.786\n",
      "Imputing row 301/5000 with 0 missing, elapsed time: 6.788\n",
      "Imputing row 401/5000 with 0 missing, elapsed time: 6.790\n",
      "Imputing row 501/5000 with 0 missing, elapsed time: 6.792\n",
      "Imputing row 601/5000 with 0 missing, elapsed time: 6.794\n",
      "Imputing row 701/5000 with 0 missing, elapsed time: 6.796\n",
      "Imputing row 801/5000 with 0 missing, elapsed time: 6.797\n",
      "Imputing row 901/5000 with 0 missing, elapsed time: 6.800\n",
      "Imputing row 1001/5000 with 0 missing, elapsed time: 6.802\n",
      "Imputing row 1101/5000 with 0 missing, elapsed time: 6.804\n",
      "Imputing row 1201/5000 with 1 missing, elapsed time: 6.805\n",
      "Imputing row 1301/5000 with 0 missing, elapsed time: 6.808\n",
      "Imputing row 1401/5000 with 2 missing, elapsed time: 6.810\n",
      "Imputing row 1501/5000 with 0 missing, elapsed time: 6.811\n",
      "Imputing row 1601/5000 with 0 missing, elapsed time: 6.812\n",
      "Imputing row 1701/5000 with 0 missing, elapsed time: 6.814\n",
      "Imputing row 1801/5000 with 0 missing, elapsed time: 6.815\n",
      "Imputing row 1901/5000 with 0 missing, elapsed time: 6.817\n",
      "Imputing row 2001/5000 with 0 missing, elapsed time: 6.819\n",
      "Imputing row 2101/5000 with 0 missing, elapsed time: 6.820\n",
      "Imputing row 2201/5000 with 0 missing, elapsed time: 6.821\n",
      "Imputing row 2301/5000 with 0 missing, elapsed time: 6.823\n",
      "Imputing row 2401/5000 with 0 missing, elapsed time: 6.825\n",
      "Imputing row 2501/5000 with 0 missing, elapsed time: 6.827\n",
      "Imputing row 2601/5000 with 0 missing, elapsed time: 6.828\n",
      "Imputing row 2701/5000 with 1 missing, elapsed time: 6.830\n",
      "Imputing row 2801/5000 with 0 missing, elapsed time: 6.831\n",
      "Imputing row 2901/5000 with 0 missing, elapsed time: 6.833\n",
      "Imputing row 3001/5000 with 0 missing, elapsed time: 6.835\n",
      "Imputing row 3101/5000 with 0 missing, elapsed time: 6.837\n",
      "Imputing row 3201/5000 with 0 missing, elapsed time: 6.839\n",
      "Imputing row 3301/5000 with 0 missing, elapsed time: 6.841\n",
      "Imputing row 3401/5000 with 2 missing, elapsed time: 6.843\n",
      "Imputing row 3501/5000 with 0 missing, elapsed time: 6.845\n",
      "Imputing row 3601/5000 with 0 missing, elapsed time: 6.846\n",
      "Imputing row 3701/5000 with 1 missing, elapsed time: 6.848\n",
      "Imputing row 3801/5000 with 2 missing, elapsed time: 6.849\n",
      "Imputing row 3901/5000 with 0 missing, elapsed time: 6.851\n",
      "Imputing row 4001/5000 with 0 missing, elapsed time: 6.853\n",
      "Imputing row 4101/5000 with 0 missing, elapsed time: 6.855\n",
      "Imputing row 4201/5000 with 0 missing, elapsed time: 6.857\n",
      "Imputing row 4301/5000 with 0 missing, elapsed time: 6.858\n",
      "Imputing row 4401/5000 with 0 missing, elapsed time: 6.861\n",
      "Imputing row 4501/5000 with 0 missing, elapsed time: 6.863\n",
      "Imputing row 4601/5000 with 0 missing, elapsed time: 6.865\n",
      "Imputing row 4701/5000 with 1 missing, elapsed time: 6.866\n",
      "Imputing row 4801/5000 with 0 missing, elapsed time: 6.868\n",
      "Imputing row 4901/5000 with 0 missing, elapsed time: 6.870\n"
     ]
    }
   ],
   "source": [
    "## Imputing missing values in dataframe using KNN-imputation\n",
    "fd_copy = pd.DataFrame(KNN(k =5).fit_transform(fd_copy), columns = fd_copy.columns)"
   ]
  },
  {
   "cell_type": "code",
   "execution_count": 122,
   "metadata": {},
   "outputs": [],
   "source": [
    "missing_val = pd.DataFrame(fd_copy.isnull().sum())"
   ]
  },
  {
   "cell_type": "code",
   "execution_count": 123,
   "metadata": {},
   "outputs": [
    {
     "data": {
      "text/html": [
       "<div>\n",
       "<style scoped>\n",
       "    .dataframe tbody tr th:only-of-type {\n",
       "        vertical-align: middle;\n",
       "    }\n",
       "\n",
       "    .dataframe tbody tr th {\n",
       "        vertical-align: top;\n",
       "    }\n",
       "\n",
       "    .dataframe thead th {\n",
       "        text-align: right;\n",
       "    }\n",
       "</style>\n",
       "<table border=\"1\" class=\"dataframe\">\n",
       "  <thead>\n",
       "    <tr style=\"text-align: right;\">\n",
       "      <th></th>\n",
       "      <th>0</th>\n",
       "    </tr>\n",
       "  </thead>\n",
       "  <tbody>\n",
       "    <tr>\n",
       "      <th>account length</th>\n",
       "      <td>0</td>\n",
       "    </tr>\n",
       "    <tr>\n",
       "      <th>international plan</th>\n",
       "      <td>0</td>\n",
       "    </tr>\n",
       "    <tr>\n",
       "      <th>voice mail plan</th>\n",
       "      <td>0</td>\n",
       "    </tr>\n",
       "    <tr>\n",
       "      <th>number vmail messages</th>\n",
       "      <td>0</td>\n",
       "    </tr>\n",
       "    <tr>\n",
       "      <th>total day minutes</th>\n",
       "      <td>0</td>\n",
       "    </tr>\n",
       "    <tr>\n",
       "      <th>total day calls</th>\n",
       "      <td>0</td>\n",
       "    </tr>\n",
       "    <tr>\n",
       "      <th>total day charge</th>\n",
       "      <td>0</td>\n",
       "    </tr>\n",
       "    <tr>\n",
       "      <th>total eve minutes</th>\n",
       "      <td>0</td>\n",
       "    </tr>\n",
       "    <tr>\n",
       "      <th>total eve calls</th>\n",
       "      <td>0</td>\n",
       "    </tr>\n",
       "    <tr>\n",
       "      <th>total eve charge</th>\n",
       "      <td>0</td>\n",
       "    </tr>\n",
       "    <tr>\n",
       "      <th>total night minutes</th>\n",
       "      <td>0</td>\n",
       "    </tr>\n",
       "    <tr>\n",
       "      <th>total night calls</th>\n",
       "      <td>0</td>\n",
       "    </tr>\n",
       "    <tr>\n",
       "      <th>total night charge</th>\n",
       "      <td>0</td>\n",
       "    </tr>\n",
       "    <tr>\n",
       "      <th>total intl minutes</th>\n",
       "      <td>0</td>\n",
       "    </tr>\n",
       "    <tr>\n",
       "      <th>total intl calls</th>\n",
       "      <td>0</td>\n",
       "    </tr>\n",
       "    <tr>\n",
       "      <th>total intl charge</th>\n",
       "      <td>0</td>\n",
       "    </tr>\n",
       "    <tr>\n",
       "      <th>number customer service calls</th>\n",
       "      <td>0</td>\n",
       "    </tr>\n",
       "    <tr>\n",
       "      <th>total minutes</th>\n",
       "      <td>0</td>\n",
       "    </tr>\n",
       "    <tr>\n",
       "      <th>total calls</th>\n",
       "      <td>0</td>\n",
       "    </tr>\n",
       "    <tr>\n",
       "      <th>avg time spent</th>\n",
       "      <td>0</td>\n",
       "    </tr>\n",
       "    <tr>\n",
       "      <th>Churn</th>\n",
       "      <td>0</td>\n",
       "    </tr>\n",
       "  </tbody>\n",
       "</table>\n",
       "</div>"
      ],
      "text/plain": [
       "                               0\n",
       "account length                 0\n",
       "international plan             0\n",
       "voice mail plan                0\n",
       "number vmail messages          0\n",
       "total day minutes              0\n",
       "total day calls                0\n",
       "total day charge               0\n",
       "total eve minutes              0\n",
       "total eve calls                0\n",
       "total eve charge               0\n",
       "total night minutes            0\n",
       "total night calls              0\n",
       "total night charge             0\n",
       "total intl minutes             0\n",
       "total intl calls               0\n",
       "total intl charge              0\n",
       "number customer service calls  0\n",
       "total minutes                  0\n",
       "total calls                    0\n",
       "avg time spent                 0\n",
       "Churn                          0"
      ]
     },
     "execution_count": 123,
     "metadata": {},
     "output_type": "execute_result"
    }
   ],
   "source": [
    "missing_val"
   ]
  },
  {
   "cell_type": "code",
   "execution_count": 124,
   "metadata": {},
   "outputs": [],
   "source": [
    "### Feature Selection\n",
    "\n",
    "tr_data_cor= fd_copy.loc[:,list_numeric_data]"
   ]
  },
  {
   "cell_type": "code",
   "execution_count": 125,
   "metadata": {},
   "outputs": [
    {
     "data": {
      "text/plain": [
       "['account length',\n",
       " 'number vmail messages',\n",
       " 'total day minutes',\n",
       " 'total day calls',\n",
       " 'total day charge',\n",
       " 'total eve minutes',\n",
       " 'total eve calls',\n",
       " 'total eve charge',\n",
       " 'total night minutes',\n",
       " 'total night calls',\n",
       " 'total night charge',\n",
       " 'total intl minutes',\n",
       " 'total intl calls',\n",
       " 'total intl charge',\n",
       " 'number customer service calls',\n",
       " 'total minutes',\n",
       " 'total calls',\n",
       " 'avg time spent']"
      ]
     },
     "execution_count": 125,
     "metadata": {},
     "output_type": "execute_result"
    }
   ],
   "source": [
    "list_numeric_data"
   ]
  },
  {
   "cell_type": "code",
   "execution_count": 126,
   "metadata": {},
   "outputs": [
    {
     "data": {
      "text/plain": [
       "<matplotlib.axes._subplots.AxesSubplot at 0x16aad0710b8>"
      ]
     },
     "execution_count": 126,
     "metadata": {},
     "output_type": "execute_result"
    },
    {
     "data": {
      "image/png": "[encoded data removed]",
      "text/plain": [
       "<Figure size 720x720 with 2 Axes>"
      ]
     },
     "metadata": {},
     "output_type": "display_data"
    }
   ],
   "source": [
    "### Setting the width and Height\n",
    "f, ax = plt.subplots(figsize=(10, 10))\n",
    "\n",
    "#Generate correlation matrix\n",
    "corr = tr_data_cor.corr()\n",
    "\n",
    "#Plot using seaborn library\n",
    "\n",
    "sns.heatmap(corr, mask=np.zeros_like(corr, dtype=np.bool), cmap=sns.diverging_palette(220, 10, as_cmap=True),\n",
    "            square=True, ax=ax)"
   ]
  },
  {
   "cell_type": "code",
   "execution_count": 127,
   "metadata": {},
   "outputs": [
    {
     "name": "stdout",
     "output_type": "stream",
     "text": [
      "international plan\n",
      "1.9443947474998577e-74\n",
      "voice mail plan\n",
      "7.164501780988496e-15\n"
     ]
    }
   ],
   "source": [
    "#Chi-square test for Categorical Variable\n",
    "lis.remove('Churn')\n",
    "for i in lis:\n",
    "    print(i)\n",
    "    chi2,p,dof,ex = chi2_contingency(pd.crosstab(fd_copy['Churn'], fd_copy[i]))\n",
    "    print(p)"
   ]
  },
  {
   "cell_type": "code",
   "execution_count": 128,
   "metadata": {},
   "outputs": [],
   "source": [
    "## Drop Variables which are dependent on other variables\n",
    "fd_copy = fd_copy.drop(['total day charge', 'total eve charge','total night charge','total intl charge'],axis=1)"
   ]
  },
  {
   "cell_type": "code",
   "execution_count": 129,
   "metadata": {},
   "outputs": [
    {
     "data": {
      "text/plain": [
       "Index(['account length', 'international plan', 'voice mail plan',\n",
       "       'number vmail messages', 'total day minutes', 'total day calls',\n",
       "       'total eve minutes', 'total eve calls', 'total night minutes',\n",
       "       'total night calls', 'total intl minutes', 'total intl calls',\n",
       "       'number customer service calls', 'total minutes', 'total calls',\n",
       "       'avg time spent', 'Churn'],\n",
       "      dtype='object')"
      ]
     },
     "execution_count": 129,
     "metadata": {},
     "output_type": "execute_result"
    }
   ],
   "source": [
    "fd_copy.columns"
   ]
  },
  {
   "cell_type": "code",
   "execution_count": 130,
   "metadata": {},
   "outputs": [],
   "source": [
    "## Separating train and test data after performing EDA\n",
    "\n",
    "train=fd_copy.iloc[0:3333,:]\n",
    "test=fd_copy.iloc[3333:5000,:]\n",
    "test= test.reset_index(drop=True)"
   ]
  },
  {
   "cell_type": "code",
   "execution_count": 131,
   "metadata": {},
   "outputs": [
    {
     "data": {
      "text/plain": [
       "(3333, 17)"
      ]
     },
     "execution_count": 131,
     "metadata": {},
     "output_type": "execute_result"
    }
   ],
   "source": [
    "train.shape"
   ]
  },
  {
   "cell_type": "code",
   "execution_count": 132,
   "metadata": {},
   "outputs": [
    {
     "data": {
      "text/plain": [
       "(1667, 17)"
      ]
     },
     "execution_count": 132,
     "metadata": {},
     "output_type": "execute_result"
    }
   ],
   "source": [
    "test.shape"
   ]
  },
  {
   "cell_type": "code",
   "execution_count": 133,
   "metadata": {},
   "outputs": [
    {
     "data": {
      "text/html": [
       "<div>\n",
       "<style scoped>\n",
       "    .dataframe tbody tr th:only-of-type {\n",
       "        vertical-align: middle;\n",
       "    }\n",
       "\n",
       "    .dataframe tbody tr th {\n",
       "        vertical-align: top;\n",
       "    }\n",
       "\n",
       "    .dataframe thead th {\n",
       "        text-align: right;\n",
       "    }\n",
       "</style>\n",
       "<table border=\"1\" class=\"dataframe\">\n",
       "  <thead>\n",
       "    <tr style=\"text-align: right;\">\n",
       "      <th></th>\n",
       "      <th>account length</th>\n",
       "      <th>international plan</th>\n",
       "      <th>voice mail plan</th>\n",
       "      <th>number vmail messages</th>\n",
       "      <th>total day minutes</th>\n",
       "      <th>total day calls</th>\n",
       "      <th>total eve minutes</th>\n",
       "      <th>total eve calls</th>\n",
       "      <th>total night minutes</th>\n",
       "      <th>total night calls</th>\n",
       "      <th>total intl minutes</th>\n",
       "      <th>total intl calls</th>\n",
       "      <th>number customer service calls</th>\n",
       "      <th>total minutes</th>\n",
       "      <th>total calls</th>\n",
       "      <th>avg time spent</th>\n",
       "      <th>Churn</th>\n",
       "    </tr>\n",
       "  </thead>\n",
       "  <tbody>\n",
       "    <tr>\n",
       "      <th>0</th>\n",
       "      <td>128.0</td>\n",
       "      <td>0.0</td>\n",
       "      <td>1.0</td>\n",
       "      <td>25.0</td>\n",
       "      <td>265.1</td>\n",
       "      <td>110.0</td>\n",
       "      <td>197.400000</td>\n",
       "      <td>99.0</td>\n",
       "      <td>244.7</td>\n",
       "      <td>91.0</td>\n",
       "      <td>10.0</td>\n",
       "      <td>3.0</td>\n",
       "      <td>1.0</td>\n",
       "      <td>717.2</td>\n",
       "      <td>303.0</td>\n",
       "      <td>2.366997</td>\n",
       "      <td>0.0</td>\n",
       "    </tr>\n",
       "    <tr>\n",
       "      <th>1</th>\n",
       "      <td>107.0</td>\n",
       "      <td>0.0</td>\n",
       "      <td>1.0</td>\n",
       "      <td>26.0</td>\n",
       "      <td>161.6</td>\n",
       "      <td>123.0</td>\n",
       "      <td>195.500000</td>\n",
       "      <td>103.0</td>\n",
       "      <td>254.4</td>\n",
       "      <td>103.0</td>\n",
       "      <td>13.7</td>\n",
       "      <td>3.0</td>\n",
       "      <td>1.0</td>\n",
       "      <td>625.2</td>\n",
       "      <td>332.0</td>\n",
       "      <td>1.883133</td>\n",
       "      <td>0.0</td>\n",
       "    </tr>\n",
       "    <tr>\n",
       "      <th>2</th>\n",
       "      <td>137.0</td>\n",
       "      <td>0.0</td>\n",
       "      <td>0.0</td>\n",
       "      <td>0.0</td>\n",
       "      <td>243.4</td>\n",
       "      <td>114.0</td>\n",
       "      <td>121.200000</td>\n",
       "      <td>110.0</td>\n",
       "      <td>162.6</td>\n",
       "      <td>104.0</td>\n",
       "      <td>12.2</td>\n",
       "      <td>5.0</td>\n",
       "      <td>0.0</td>\n",
       "      <td>539.4</td>\n",
       "      <td>333.0</td>\n",
       "      <td>1.619820</td>\n",
       "      <td>0.0</td>\n",
       "    </tr>\n",
       "    <tr>\n",
       "      <th>3</th>\n",
       "      <td>84.0</td>\n",
       "      <td>1.0</td>\n",
       "      <td>0.0</td>\n",
       "      <td>0.0</td>\n",
       "      <td>299.4</td>\n",
       "      <td>71.0</td>\n",
       "      <td>149.666075</td>\n",
       "      <td>88.0</td>\n",
       "      <td>196.9</td>\n",
       "      <td>89.0</td>\n",
       "      <td>6.6</td>\n",
       "      <td>7.0</td>\n",
       "      <td>2.0</td>\n",
       "      <td>564.8</td>\n",
       "      <td>255.0</td>\n",
       "      <td>2.214902</td>\n",
       "      <td>0.0</td>\n",
       "    </tr>\n",
       "    <tr>\n",
       "      <th>4</th>\n",
       "      <td>75.0</td>\n",
       "      <td>1.0</td>\n",
       "      <td>0.0</td>\n",
       "      <td>0.0</td>\n",
       "      <td>166.7</td>\n",
       "      <td>113.0</td>\n",
       "      <td>148.300000</td>\n",
       "      <td>122.0</td>\n",
       "      <td>186.9</td>\n",
       "      <td>121.0</td>\n",
       "      <td>10.1</td>\n",
       "      <td>3.0</td>\n",
       "      <td>3.0</td>\n",
       "      <td>512.0</td>\n",
       "      <td>359.0</td>\n",
       "      <td>1.426184</td>\n",
       "      <td>0.0</td>\n",
       "    </tr>\n",
       "  </tbody>\n",
       "</table>\n",
       "</div>"
      ],
      "text/plain": [
       "   account length  international plan  voice mail plan  number vmail messages  \\\n",
       "0           128.0                 0.0              1.0                   25.0   \n",
       "1           107.0                 0.0              1.0                   26.0   \n",
       "2           137.0                 0.0              0.0                    0.0   \n",
       "3            84.0                 1.0              0.0                    0.0   \n",
       "4            75.0                 1.0              0.0                    0.0   \n",
       "\n",
       "   total day minutes  total day calls  total eve minutes  total eve calls  \\\n",
       "0              265.1            110.0         197.400000             99.0   \n",
       "1              161.6            123.0         195.500000            103.0   \n",
       "2              243.4            114.0         121.200000            110.0   \n",
       "3              299.4             71.0         149.666075             88.0   \n",
       "4              166.7            113.0         148.300000            122.0   \n",
       "\n",
       "   total night minutes  total night calls  total intl minutes  \\\n",
       "0                244.7               91.0                10.0   \n",
       "1                254.4              103.0                13.7   \n",
       "2                162.6              104.0                12.2   \n",
       "3                196.9               89.0                 6.6   \n",
       "4                186.9              121.0                10.1   \n",
       "\n",
       "   total intl calls  number customer service calls  total minutes  \\\n",
       "0               3.0                            1.0          717.2   \n",
       "1               3.0                            1.0          625.2   \n",
       "2               5.0                            0.0          539.4   \n",
       "3               7.0                            2.0          564.8   \n",
       "4               3.0                            3.0          512.0   \n",
       "\n",
       "   total calls  avg time spent  Churn  \n",
       "0        303.0        2.366997    0.0  \n",
       "1        332.0        1.883133    0.0  \n",
       "2        333.0        1.619820    0.0  \n",
       "3        255.0        2.214902    0.0  \n",
       "4        359.0        1.426184    0.0  "
      ]
     },
     "execution_count": 133,
     "metadata": {},
     "output_type": "execute_result"
    }
   ],
   "source": [
    "train.head()"
   ]
  },
  {
   "cell_type": "code",
   "execution_count": 134,
   "metadata": {},
   "outputs": [],
   "source": [
    "## Decision Tree Model \n",
    "from sklearn import tree\n",
    "from sklearn.metrics import accuracy_score\n",
    "from sklearn.cross_validation import train_test_split\n",
    "from sklearn.metrics import confusion_matrix"
   ]
  },
  {
   "cell_type": "code",
   "execution_count": 135,
   "metadata": {},
   "outputs": [],
   "source": [
    "fd_copy_1 = fd_copy"
   ]
  },
  {
   "cell_type": "code",
   "execution_count": 136,
   "metadata": {},
   "outputs": [],
   "source": [
    "## Decision tree Model\n",
    "C50_model = tree.DecisionTreeClassifier(criterion='entropy').fit(train.values[:,0:16],train.values[:,16])"
   ]
  },
  {
   "cell_type": "code",
   "execution_count": 137,
   "metadata": {},
   "outputs": [],
   "source": [
    "C50_Predictions = C50_model.predict(test.values[:,0:16])"
   ]
  },
  {
   "cell_type": "code",
   "execution_count": 138,
   "metadata": {},
   "outputs": [
    {
     "data": {
      "text/plain": [
       "array([1., 0., 0., ..., 0., 0., 0.])"
      ]
     },
     "execution_count": 138,
     "metadata": {},
     "output_type": "execute_result"
    }
   ],
   "source": [
    "C50_Predictions"
   ]
  },
  {
   "cell_type": "code",
   "execution_count": 139,
   "metadata": {},
   "outputs": [],
   "source": [
    "## Evaluating the Decision Tree Model\n",
    "ConfMat_C50 = pd.crosstab(test.values[:,16],C50_Predictions)\n",
    "\n",
    "TN = ConfMat_C50.iloc[0,0]\n",
    "FN = ConfMat_C50.iloc[1,0]\n",
    "TP = ConfMat_C50.iloc[1,1]\n",
    "FP = ConfMat_C50.iloc[0,1]\n",
    "\n",
    "Accuracy_C50 = ((TP+TN)*100)/(TP+TN+FP+FN)\n",
    "FNR_C50 = (FN*100)/(FN+TP)\n",
    "\n",
    "#Accuracy 91.00\n",
    "#FNR 32.14"
   ]
  },
  {
   "cell_type": "code",
   "execution_count": 140,
   "metadata": {},
   "outputs": [
    {
     "data": {
      "text/plain": [
       "91.00179964007198"
      ]
     },
     "execution_count": 140,
     "metadata": {},
     "output_type": "execute_result"
    }
   ],
   "source": [
    "Accuracy_C50"
   ]
  },
  {
   "cell_type": "code",
   "execution_count": 141,
   "metadata": {},
   "outputs": [
    {
     "data": {
      "text/plain": [
       "32.142857142857146"
      ]
     },
     "execution_count": 141,
     "metadata": {},
     "output_type": "execute_result"
    }
   ],
   "source": [
    "FNR_C50"
   ]
  },
  {
   "cell_type": "code",
   "execution_count": 147,
   "metadata": {},
   "outputs": [],
   "source": [
    "#Random Forest Model\n",
    "\n",
    "from sklearn.ensemble import RandomForestClassifier\n",
    "RF_model = RandomForestClassifier(n_estimators = 1000).fit(train.values[:,0:16], train.values[:,16])"
   ]
  },
  {
   "cell_type": "code",
   "execution_count": 148,
   "metadata": {},
   "outputs": [],
   "source": [
    "RF_Predictions = RF_model.predict(test.values[:,0:16])"
   ]
  },
  {
   "cell_type": "code",
   "execution_count": 149,
   "metadata": {},
   "outputs": [],
   "source": [
    "## Evaluating the Random Forest Model\n",
    "ConfMat_RF = pd.crosstab(test.values[:,16],RF_Predictions)\n",
    "\n",
    "TN = ConfMat_RF.iloc[0,0]\n",
    "FN = ConfMat_RF.iloc[1,0]\n",
    "TP = ConfMat_RF.iloc[1,1]\n",
    "FP = ConfMat_RF.iloc[0,1]\n",
    "\n",
    "Accuracy_RF = ((TP+TN)*100)/(TP+TN+FP+FN)\n",
    "FNR_RF = (FN*100)/(FN+TP)\n",
    "\n",
    "#Accuracy 94.48\n",
    "#FNR 38.28"
   ]
  },
  {
   "cell_type": "code",
   "execution_count": 150,
   "metadata": {},
   "outputs": [
    {
     "data": {
      "text/plain": [
       "94.48110377924415"
      ]
     },
     "execution_count": 150,
     "metadata": {},
     "output_type": "execute_result"
    }
   ],
   "source": [
    "Accuracy_RF"
   ]
  },
  {
   "cell_type": "code",
   "execution_count": 151,
   "metadata": {},
   "outputs": [
    {
     "data": {
      "text/plain": [
       "38.839285714285715"
      ]
     },
     "execution_count": 151,
     "metadata": {},
     "output_type": "execute_result"
    }
   ],
   "source": [
    "FNR_RF"
   ]
  },
  {
   "cell_type": "code",
   "execution_count": 152,
   "metadata": {},
   "outputs": [],
   "source": [
    "#Naive Bayes\n",
    "from sklearn.naive_bayes import GaussianNB\n",
    "\n",
    "#Naive Bayes implementation\n",
    "NB_model = GaussianNB().fit(train.values[:,0:16], train.values[:,16])"
   ]
  },
  {
   "cell_type": "code",
   "execution_count": 153,
   "metadata": {},
   "outputs": [],
   "source": [
    "NB_Predictions = NB_model.predict(test.values[:,0:16])"
   ]
  },
  {
   "cell_type": "code",
   "execution_count": 154,
   "metadata": {},
   "outputs": [],
   "source": [
    "## Evaluating the Naive Bayes Model\n",
    "\n",
    "ConfMat_NB=pd.crosstab(test.values[:,16],NB_Predictions)\n",
    "\n",
    "TN = ConfMat_NB.iloc[0,0]\n",
    "FN = ConfMat_NB.iloc[1,0]\n",
    "TP = ConfMat_NB.iloc[1,1]\n",
    "FP = ConfMat_NB.iloc[0,1]\n",
    "\n",
    "Accuracy_NB = ((TP+TN)*100)/(TP+TN+FP+FN)\n",
    "FNR_NB = (FN*100)/(FN+TP)\n",
    "\n",
    "##Accuracy = 88.66\n",
    "## FNR = 43.75"
   ]
  },
  {
   "cell_type": "code",
   "execution_count": 155,
   "metadata": {},
   "outputs": [
    {
     "data": {
      "text/plain": [
       "88.6622675464907"
      ]
     },
     "execution_count": 155,
     "metadata": {},
     "output_type": "execute_result"
    }
   ],
   "source": [
    "Accuracy_NB"
   ]
  },
  {
   "cell_type": "code",
   "execution_count": 156,
   "metadata": {},
   "outputs": [
    {
     "data": {
      "text/plain": [
       "43.75"
      ]
     },
     "execution_count": 156,
     "metadata": {},
     "output_type": "execute_result"
    }
   ],
   "source": [
    "FNR_NB"
   ]
  },
  {
   "cell_type": "code",
   "execution_count": 157,
   "metadata": {},
   "outputs": [],
   "source": [
    "fd_copy_1 =fd_copy"
   ]
  },
  {
   "cell_type": "code",
   "execution_count": 158,
   "metadata": {},
   "outputs": [],
   "source": [
    "fd_copy_1['Churn'] = fd_copy_1['Churn'].astype('object')\n",
    "fd_copy_1['international plan'] =fd_copy_1['international plan'].astype('object')\n",
    "fd_copy_1['voice mail plan'] = fd_copy_1['voice mail plan'].astype('object')"
   ]
  },
  {
   "cell_type": "code",
   "execution_count": 159,
   "metadata": {},
   "outputs": [],
   "source": [
    "## Preparing data for Logistic Regression Model\n",
    "\n",
    "logit_reg_model = pd.DataFrame(fd_copy_1['Churn'])"
   ]
  },
  {
   "cell_type": "code",
   "execution_count": 160,
   "metadata": {},
   "outputs": [],
   "source": [
    "list_numeric_data.remove('total day charge')\n",
    "list_numeric_data.remove('total eve charge')\n",
    "list_numeric_data.remove('total night charge')\n",
    "list_numeric_data.remove('total intl charge')"
   ]
  },
  {
   "cell_type": "code",
   "execution_count": 161,
   "metadata": {},
   "outputs": [],
   "source": [
    "#Add continous variables\n",
    "logit_reg_model = logit_reg_model.join(fd_copy_1[list_numeric_data])"
   ]
  },
  {
   "cell_type": "code",
   "execution_count": 162,
   "metadata": {},
   "outputs": [],
   "source": [
    "# Creating dummies for categorical variables\n",
    "for i in lis:\n",
    "    temp = pd.get_dummies(fd_copy_1[i], prefix = i)\n",
    "    logit_reg_model = logit_reg_model.join(temp)"
   ]
  },
  {
   "cell_type": "code",
   "execution_count": 163,
   "metadata": {},
   "outputs": [
    {
     "data": {
      "text/html": [
       "<div>\n",
       "<style scoped>\n",
       "    .dataframe tbody tr th:only-of-type {\n",
       "        vertical-align: middle;\n",
       "    }\n",
       "\n",
       "    .dataframe tbody tr th {\n",
       "        vertical-align: top;\n",
       "    }\n",
       "\n",
       "    .dataframe thead th {\n",
       "        text-align: right;\n",
       "    }\n",
       "</style>\n",
       "<table border=\"1\" class=\"dataframe\">\n",
       "  <thead>\n",
       "    <tr style=\"text-align: right;\">\n",
       "      <th></th>\n",
       "      <th>Churn</th>\n",
       "      <th>account length</th>\n",
       "      <th>number vmail messages</th>\n",
       "      <th>total day minutes</th>\n",
       "      <th>total day calls</th>\n",
       "      <th>total eve minutes</th>\n",
       "      <th>total eve calls</th>\n",
       "      <th>total night minutes</th>\n",
       "      <th>total night calls</th>\n",
       "      <th>total intl minutes</th>\n",
       "      <th>total intl calls</th>\n",
       "      <th>number customer service calls</th>\n",
       "      <th>total minutes</th>\n",
       "      <th>total calls</th>\n",
       "      <th>avg time spent</th>\n",
       "      <th>international plan_0.0</th>\n",
       "      <th>international plan_1.0</th>\n",
       "      <th>voice mail plan_0.0</th>\n",
       "      <th>voice mail plan_1.0</th>\n",
       "    </tr>\n",
       "  </thead>\n",
       "  <tbody>\n",
       "    <tr>\n",
       "      <th>4995</th>\n",
       "      <td>0</td>\n",
       "      <td>50.0</td>\n",
       "      <td>40.0</td>\n",
       "      <td>235.7</td>\n",
       "      <td>127.0</td>\n",
       "      <td>223.0</td>\n",
       "      <td>126.0</td>\n",
       "      <td>297.5</td>\n",
       "      <td>116.0</td>\n",
       "      <td>9.9</td>\n",
       "      <td>5.000000</td>\n",
       "      <td>2.0</td>\n",
       "      <td>766.1</td>\n",
       "      <td>374.0</td>\n",
       "      <td>2.048396</td>\n",
       "      <td>1</td>\n",
       "      <td>0</td>\n",
       "      <td>0</td>\n",
       "      <td>1</td>\n",
       "    </tr>\n",
       "    <tr>\n",
       "      <th>4996</th>\n",
       "      <td>1</td>\n",
       "      <td>152.0</td>\n",
       "      <td>0.0</td>\n",
       "      <td>184.2</td>\n",
       "      <td>90.0</td>\n",
       "      <td>256.8</td>\n",
       "      <td>73.0</td>\n",
       "      <td>213.6</td>\n",
       "      <td>113.0</td>\n",
       "      <td>14.7</td>\n",
       "      <td>2.000000</td>\n",
       "      <td>3.0</td>\n",
       "      <td>669.3</td>\n",
       "      <td>278.0</td>\n",
       "      <td>2.407554</td>\n",
       "      <td>1</td>\n",
       "      <td>0</td>\n",
       "      <td>1</td>\n",
       "      <td>0</td>\n",
       "    </tr>\n",
       "    <tr>\n",
       "      <th>4997</th>\n",
       "      <td>0</td>\n",
       "      <td>61.0</td>\n",
       "      <td>0.0</td>\n",
       "      <td>140.6</td>\n",
       "      <td>89.0</td>\n",
       "      <td>172.8</td>\n",
       "      <td>128.0</td>\n",
       "      <td>212.4</td>\n",
       "      <td>97.0</td>\n",
       "      <td>13.6</td>\n",
       "      <td>4.000000</td>\n",
       "      <td>1.0</td>\n",
       "      <td>539.4</td>\n",
       "      <td>318.0</td>\n",
       "      <td>1.696226</td>\n",
       "      <td>1</td>\n",
       "      <td>0</td>\n",
       "      <td>1</td>\n",
       "      <td>0</td>\n",
       "    </tr>\n",
       "    <tr>\n",
       "      <th>4998</th>\n",
       "      <td>0</td>\n",
       "      <td>109.0</td>\n",
       "      <td>0.0</td>\n",
       "      <td>188.8</td>\n",
       "      <td>67.0</td>\n",
       "      <td>171.7</td>\n",
       "      <td>92.0</td>\n",
       "      <td>224.4</td>\n",
       "      <td>89.0</td>\n",
       "      <td>8.5</td>\n",
       "      <td>6.000000</td>\n",
       "      <td>0.0</td>\n",
       "      <td>593.4</td>\n",
       "      <td>254.0</td>\n",
       "      <td>2.336220</td>\n",
       "      <td>1</td>\n",
       "      <td>0</td>\n",
       "      <td>1</td>\n",
       "      <td>0</td>\n",
       "    </tr>\n",
       "    <tr>\n",
       "      <th>4999</th>\n",
       "      <td>0</td>\n",
       "      <td>86.0</td>\n",
       "      <td>34.0</td>\n",
       "      <td>129.4</td>\n",
       "      <td>102.0</td>\n",
       "      <td>267.1</td>\n",
       "      <td>104.0</td>\n",
       "      <td>154.8</td>\n",
       "      <td>100.0</td>\n",
       "      <td>9.3</td>\n",
       "      <td>3.776559</td>\n",
       "      <td>0.0</td>\n",
       "      <td>560.6</td>\n",
       "      <td>322.0</td>\n",
       "      <td>1.740994</td>\n",
       "      <td>1</td>\n",
       "      <td>0</td>\n",
       "      <td>0</td>\n",
       "      <td>1</td>\n",
       "    </tr>\n",
       "  </tbody>\n",
       "</table>\n",
       "</div>"
      ],
      "text/plain": [
       "     Churn  account length  number vmail messages  total day minutes  \\\n",
       "4995     0            50.0                   40.0              235.7   \n",
       "4996     1           152.0                    0.0              184.2   \n",
       "4997     0            61.0                    0.0              140.6   \n",
       "4998     0           109.0                    0.0              188.8   \n",
       "4999     0            86.0                   34.0              129.4   \n",
       "\n",
       "      total day calls  total eve minutes  total eve calls  \\\n",
       "4995            127.0              223.0            126.0   \n",
       "4996             90.0              256.8             73.0   \n",
       "4997             89.0              172.8            128.0   \n",
       "4998             67.0              171.7             92.0   \n",
       "4999            102.0              267.1            104.0   \n",
       "\n",
       "      total night minutes  total night calls  total intl minutes  \\\n",
       "4995                297.5              116.0                 9.9   \n",
       "4996                213.6              113.0                14.7   \n",
       "4997                212.4               97.0                13.6   \n",
       "4998                224.4               89.0                 8.5   \n",
       "4999                154.8              100.0                 9.3   \n",
       "\n",
       "      total intl calls  number customer service calls  total minutes  \\\n",
       "4995          5.000000                            2.0          766.1   \n",
       "4996          2.000000                            3.0          669.3   \n",
       "4997          4.000000                            1.0          539.4   \n",
       "4998          6.000000                            0.0          593.4   \n",
       "4999          3.776559                            0.0          560.6   \n",
       "\n",
       "      total calls  avg time spent  international plan_0.0  \\\n",
       "4995        374.0        2.048396                       1   \n",
       "4996        278.0        2.407554                       1   \n",
       "4997        318.0        1.696226                       1   \n",
       "4998        254.0        2.336220                       1   \n",
       "4999        322.0        1.740994                       1   \n",
       "\n",
       "      international plan_1.0  voice mail plan_0.0  voice mail plan_1.0  \n",
       "4995                       0                    0                    1  \n",
       "4996                       0                    1                    0  \n",
       "4997                       0                    1                    0  \n",
       "4998                       0                    1                    0  \n",
       "4999                       0                    0                    1  "
      ]
     },
     "execution_count": 163,
     "metadata": {},
     "output_type": "execute_result"
    }
   ],
   "source": [
    "logit_reg_model.tail()"
   ]
  },
  {
   "cell_type": "code",
   "execution_count": 164,
   "metadata": {},
   "outputs": [],
   "source": [
    "## Separating train and test data\n",
    "train_LR = logit_reg_model.iloc[0:3333,]\n",
    "test_LR = logit_reg_model.iloc[3333:5000,]\n",
    "test_LR = test_LR.reset_index(drop=True)"
   ]
  },
  {
   "cell_type": "code",
   "execution_count": 165,
   "metadata": {},
   "outputs": [
    {
     "data": {
      "text/plain": [
       "(1667, 19)"
      ]
     },
     "execution_count": 165,
     "metadata": {},
     "output_type": "execute_result"
    }
   ],
   "source": [
    "test_LR.shape"
   ]
  },
  {
   "cell_type": "code",
   "execution_count": 166,
   "metadata": {},
   "outputs": [
    {
     "data": {
      "text/plain": [
       "(3333, 19)"
      ]
     },
     "execution_count": 166,
     "metadata": {},
     "output_type": "execute_result"
    }
   ],
   "source": [
    "train_LR.shape"
   ]
  },
  {
   "cell_type": "code",
   "execution_count": 167,
   "metadata": {},
   "outputs": [],
   "source": [
    "## Storing column names of independent variables\n",
    "train_LR_cols = train_LR.columns[1:19]"
   ]
  },
  {
   "cell_type": "code",
   "execution_count": 168,
   "metadata": {},
   "outputs": [
    {
     "name": "stdout",
     "output_type": "stream",
     "text": [
      "Optimization terminated successfully.\n",
      "         Current function value: 0.347687\n",
      "         Iterations 7\n"
     ]
    },
    {
     "name": "stderr",
     "output_type": "stream",
     "text": [
      "C:\\Users\\Hitesh Juneja\\Anaconda3\\lib\\site-packages\\statsmodels\\base\\model.py:1092: RuntimeWarning: invalid value encountered in sqrt\n",
      "  bse_ = np.sqrt(np.diag(self.cov_params()))\n",
      "C:\\Users\\Hitesh Juneja\\Anaconda3\\lib\\site-packages\\scipy\\stats\\_distn_infrastructure.py:879: RuntimeWarning: invalid value encountered in greater\n",
      "  return (self.a < x) & (x < self.b)\n",
      "C:\\Users\\Hitesh Juneja\\Anaconda3\\lib\\site-packages\\scipy\\stats\\_distn_infrastructure.py:879: RuntimeWarning: invalid value encountered in less\n",
      "  return (self.a < x) & (x < self.b)\n",
      "C:\\Users\\Hitesh Juneja\\Anaconda3\\lib\\site-packages\\scipy\\stats\\_distn_infrastructure.py:1821: RuntimeWarning: invalid value encountered in less_equal\n",
      "  cond2 = cond0 & (x <= self.a)\n"
     ]
    },
    {
     "data": {
      "text/html": [
       "<table class=\"simpletable\">\n",
       "<caption>Logit Regression Results</caption>\n",
       "<tr>\n",
       "  <th>Dep. Variable:</th>       <td>Churn</td>      <th>  No. Observations:  </th>  <td>  3333</td>  \n",
       "</tr>\n",
       "<tr>\n",
       "  <th>Model:</th>               <td>Logit</td>      <th>  Df Residuals:      </th>  <td>  3316</td>  \n",
       "</tr>\n",
       "<tr>\n",
       "  <th>Method:</th>               <td>MLE</td>       <th>  Df Model:          </th>  <td>    16</td>  \n",
       "</tr>\n",
       "<tr>\n",
       "  <th>Date:</th>          <td>Mon, 03 Dec 2018</td> <th>  Pseudo R-squ.:     </th>  <td>0.1597</td>  \n",
       "</tr>\n",
       "<tr>\n",
       "  <th>Time:</th>              <td>00:19:40</td>     <th>  Log-Likelihood:    </th> <td> -1158.8</td> \n",
       "</tr>\n",
       "<tr>\n",
       "  <th>converged:</th>           <td>True</td>       <th>  LL-Null:           </th> <td> -1379.1</td> \n",
       "</tr>\n",
       "<tr>\n",
       "  <th> </th>                      <td> </td>        <th>  LLR p-value:       </th> <td>1.085e-83</td>\n",
       "</tr>\n",
       "</table>\n",
       "<table class=\"simpletable\">\n",
       "<tr>\n",
       "                <td></td>                   <th>coef</th>     <th>std err</th>      <th>z</th>      <th>P>|z|</th>  <th>[0.025</th>    <th>0.975]</th>  \n",
       "</tr>\n",
       "<tr>\n",
       "  <th>account length</th>                <td>    0.0008</td> <td>    0.001</td> <td>    0.554</td> <td> 0.580</td> <td>   -0.002</td> <td>    0.003</td>\n",
       "</tr>\n",
       "<tr>\n",
       "  <th>number vmail messages</th>         <td>    0.0267</td> <td>    0.017</td> <td>    1.570</td> <td> 0.116</td> <td>   -0.007</td> <td>    0.060</td>\n",
       "</tr>\n",
       "<tr>\n",
       "  <th>total day minutes</th>             <td>    0.0016</td> <td>    0.004</td> <td>    0.420</td> <td> 0.675</td> <td>   -0.006</td> <td>    0.009</td>\n",
       "</tr>\n",
       "<tr>\n",
       "  <th>total day calls</th>               <td>    0.0061</td> <td>    0.008</td> <td>    0.748</td> <td> 0.454</td> <td>   -0.010</td> <td>    0.022</td>\n",
       "</tr>\n",
       "<tr>\n",
       "  <th>total eve minutes</th>             <td>   -0.0043</td> <td>    0.004</td> <td>   -1.109</td> <td> 0.267</td> <td>   -0.012</td> <td>    0.003</td>\n",
       "</tr>\n",
       "<tr>\n",
       "  <th>total eve calls</th>               <td>    0.0036</td> <td>    0.008</td> <td>    0.437</td> <td> 0.662</td> <td>   -0.012</td> <td>    0.020</td>\n",
       "</tr>\n",
       "<tr>\n",
       "  <th>total night minutes</th>           <td>   -0.0064</td> <td>    0.004</td> <td>   -1.651</td> <td> 0.099</td> <td>   -0.014</td> <td>    0.001</td>\n",
       "</tr>\n",
       "<tr>\n",
       "  <th>total night calls</th>             <td>    0.0037</td> <td>    0.008</td> <td>    0.441</td> <td> 0.659</td> <td>   -0.013</td> <td>    0.020</td>\n",
       "</tr>\n",
       "<tr>\n",
       "  <th>total intl minutes</th>            <td>    0.0514</td> <td>    0.021</td> <td>    2.400</td> <td> 0.016</td> <td>    0.009</td> <td>    0.093</td>\n",
       "</tr>\n",
       "<tr>\n",
       "  <th>total intl calls</th>              <td>   -0.1115</td> <td>    0.028</td> <td>   -3.941</td> <td> 0.000</td> <td>   -0.167</td> <td>   -0.056</td>\n",
       "</tr>\n",
       "<tr>\n",
       "  <th>number customer service calls</th> <td>    0.0032</td> <td>    0.056</td> <td>    0.057</td> <td> 0.955</td> <td>   -0.107</td> <td>    0.114</td>\n",
       "</tr>\n",
       "<tr>\n",
       "  <th>total minutes</th>                 <td>    0.0241</td> <td>    0.005</td> <td>    5.253</td> <td> 0.000</td> <td>    0.015</td> <td>    0.033</td>\n",
       "</tr>\n",
       "<tr>\n",
       "  <th>total calls</th>                   <td>   -0.0316</td> <td>    0.009</td> <td>   -3.483</td> <td> 0.000</td> <td>   -0.049</td> <td>   -0.014</td>\n",
       "</tr>\n",
       "<tr>\n",
       "  <th>avg time spent</th>                <td>   -4.3393</td> <td>    0.986</td> <td>   -4.401</td> <td> 0.000</td> <td>   -6.272</td> <td>   -2.407</td>\n",
       "</tr>\n",
       "<tr>\n",
       "  <th>international plan_0.0</th>        <td>    0.2347</td> <td>      nan</td> <td>      nan</td> <td>   nan</td> <td>      nan</td> <td>      nan</td>\n",
       "</tr>\n",
       "<tr>\n",
       "  <th>international plan_1.0</th>        <td>    2.0920</td> <td>      nan</td> <td>      nan</td> <td>   nan</td> <td>      nan</td> <td>      nan</td>\n",
       "</tr>\n",
       "<tr>\n",
       "  <th>voice mail plan_0.0</th>           <td>    1.9937</td> <td>      nan</td> <td>      nan</td> <td>   nan</td> <td>      nan</td> <td>      nan</td>\n",
       "</tr>\n",
       "<tr>\n",
       "  <th>voice mail plan_1.0</th>           <td>    0.3330</td> <td>      nan</td> <td>      nan</td> <td>   nan</td> <td>      nan</td> <td>      nan</td>\n",
       "</tr>\n",
       "</table>"
      ],
      "text/plain": [
       "<class 'statsmodels.iolib.summary.Summary'>\n",
       "\"\"\"\n",
       "                           Logit Regression Results                           \n",
       "==============================================================================\n",
       "Dep. Variable:                  Churn   No. Observations:                 3333\n",
       "Model:                          Logit   Df Residuals:                     3316\n",
       "Method:                           MLE   Df Model:                           16\n",
       "Date:                Mon, 03 Dec 2018   Pseudo R-squ.:                  0.1597\n",
       "Time:                        00:19:40   Log-Likelihood:                -1158.8\n",
       "converged:                       True   LL-Null:                       -1379.1\n",
       "                                        LLR p-value:                 1.085e-83\n",
       "=================================================================================================\n",
       "                                    coef    std err          z      P>|z|      [0.025      0.975]\n",
       "-------------------------------------------------------------------------------------------------\n",
       "account length                    0.0008      0.001      0.554      0.580      -0.002       0.003\n",
       "number vmail messages             0.0267      0.017      1.570      0.116      -0.007       0.060\n",
       "total day minutes                 0.0016      0.004      0.420      0.675      -0.006       0.009\n",
       "total day calls                   0.0061      0.008      0.748      0.454      -0.010       0.022\n",
       "total eve minutes                -0.0043      0.004     -1.109      0.267      -0.012       0.003\n",
       "total eve calls                   0.0036      0.008      0.437      0.662      -0.012       0.020\n",
       "total night minutes              -0.0064      0.004     -1.651      0.099      -0.014       0.001\n",
       "total night calls                 0.0037      0.008      0.441      0.659      -0.013       0.020\n",
       "total intl minutes                0.0514      0.021      2.400      0.016       0.009       0.093\n",
       "total intl calls                 -0.1115      0.028     -3.941      0.000      -0.167      -0.056\n",
       "number customer service calls     0.0032      0.056      0.057      0.955      -0.107       0.114\n",
       "total minutes                     0.0241      0.005      5.253      0.000       0.015       0.033\n",
       "total calls                      -0.0316      0.009     -3.483      0.000      -0.049      -0.014\n",
       "avg time spent                   -4.3393      0.986     -4.401      0.000      -6.272      -2.407\n",
       "international plan_0.0            0.2347        nan        nan        nan         nan         nan\n",
       "international plan_1.0            2.0920        nan        nan        nan         nan         nan\n",
       "voice mail plan_0.0               1.9937        nan        nan        nan         nan         nan\n",
       "voice mail plan_1.0               0.3330        nan        nan        nan         nan         nan\n",
       "=================================================================================================\n",
       "\"\"\""
      ]
     },
     "execution_count": 168,
     "metadata": {},
     "output_type": "execute_result"
    }
   ],
   "source": [
    "#Built Logistic Regression\n",
    "import statsmodels.api as sm\n",
    "\n",
    "logit = sm.Logit(train_LR['Churn'].astype('float'), train_LR[train_LR_cols].astype('float')).fit()\n",
    "\n",
    "logit.summary()"
   ]
  },
  {
   "cell_type": "code",
   "execution_count": 169,
   "metadata": {},
   "outputs": [],
   "source": [
    "#Predict test data\n",
    "test_LR['Actual_prob'] = logit.predict(test_LR[train_LR_cols])"
   ]
  },
  {
   "cell_type": "code",
   "execution_count": 170,
   "metadata": {},
   "outputs": [],
   "source": [
    "test_LR['ActualVal'] = 1\n",
    "test_LR.loc[test_LR.Actual_prob < 0.5, 'ActualVal'] = 0"
   ]
  },
  {
   "cell_type": "code",
   "execution_count": 171,
   "metadata": {},
   "outputs": [],
   "source": [
    "#Build confusion matrix\n",
    "CM = pd.crosstab(test_LR['Churn'], test_LR['ActualVal'])\n",
    "\n",
    "#let us save TP, TN, FP, FN\n",
    "TN = CM.iloc[0,0]\n",
    "FN = CM.iloc[1,0]\n",
    "TP = CM.iloc[1,1]\n",
    "FP = CM.iloc[0,1]\n",
    "\n",
    "#check accuracy of model\n",
    "#accuracy_score(y_test, y_pred)*100\n",
    "Accuracy_LR=((TP+TN)*100)/(TP+TN+FP+FN)\n",
    "\n",
    "FNR_LR = (FN*100)/(FN+TP)\n",
    "\n",
    "#Accuracy 87.58\n",
    "#FNR 84.37"
   ]
  },
  {
   "cell_type": "code",
   "execution_count": 172,
   "metadata": {},
   "outputs": [
    {
     "data": {
      "text/plain": [
       "84.375"
      ]
     },
     "execution_count": 172,
     "metadata": {},
     "output_type": "execute_result"
    }
   ],
   "source": [
    "FNR_LR"
   ]
  },
  {
   "cell_type": "code",
   "execution_count": 173,
   "metadata": {},
   "outputs": [
    {
     "data": {
      "text/plain": [
       "87.58248350329934"
      ]
     },
     "execution_count": 173,
     "metadata": {},
     "output_type": "execute_result"
    }
   ],
   "source": [
    "Accuracy_LR"
   ]
  }
 ],
 "metadata": {
  "kernelspec": {
   "display_name": "Python 3",
   "language": "python",
   "name": "python3"
  },
  "language_info": {
   "codemirror_mode": {
    "name": "ipython",
    "version": 3
   },
   "file_extension": ".py",
   "mimetype": "text/x-python",
   "name": "python",
   "nbconvert_exporter": "python",
   "pygments_lexer": "ipython3",
   "version": "3.6.5"
  }
 },
 "nbformat": 4,
 "nbformat_minor": 2
}
